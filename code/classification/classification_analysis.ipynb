{
 "cells": [
  {
   "cell_type": "code",
   "execution_count": 1,
   "metadata": {},
   "outputs": [
    {
     "name": "stderr",
     "output_type": "stream",
     "text": [
      "/home/data/chensun/affi_project/yes/envs/openwpm/lib/python3.9/site-packages/tqdm/auto.py:21: TqdmWarning: IProgress not found. Please update jupyter and ipywidgets. See https://ipywidgets.readthedocs.io/en/stable/user_install.html\n",
      "  from .autonotebook import tqdm as notebook_tqdm\n"
     ]
    }
   ],
   "source": [
    "import pandas as pd\n",
    "from tqdm.auto import tqdm\n",
    "import os \n",
    "import json\n",
    "import numpy as np"
   ]
  },
  {
   "cell_type": "code",
   "execution_count": 2,
   "metadata": {},
   "outputs": [
    {
     "data": {
      "text/plain": [
       "'/home/data/chensun/affi_project/yes/envs/openwpm/lib/python3.9/site-packages/matplotlib/mpl-data/fonts/ttf/DejaVuSerif.ttf'"
      ]
     },
     "execution_count": 2,
     "metadata": {},
     "output_type": "execute_result"
    }
   ],
   "source": [
    "# plot the data\n",
    "import seaborn as sns\n",
    "import scienceplots\n",
    "import matplotlib.pyplot as plt\n",
    "\n",
    "tex_fonts = {\n",
    "    # Use LaTeX to write all text\n",
    "    \"text.usetex\": False,\n",
    "    \"font.family\": \"serif\",\n",
    "    # Use 10pt font in plots, to match 10pt font in document\n",
    "    \"axes.labelsize\": 12,\n",
    "    \"font.size\": 12,\n",
    "    # Make the legend/label fonts a little smaller\n",
    "    \"legend.fontsize\": 6,\n",
    "    \"xtick.labelsize\": 8,\n",
    "    \"ytick.labelsize\": 8\n",
    "}\n",
    "\n",
    "plt.style.use(['science', 'nature'])\n",
    "plt.rcParams.update(tex_fonts)\n",
    "\n",
    "import matplotlib.font_manager\n",
    "\n",
    "fm = matplotlib.font_manager.json_load(\"/home/chensun/.cache/matplotlib/fontlist-v330.json\")\n",
    "\n",
    "fm.findfont(\"serif\", rebuild_if_missing=False)"
   ]
  },
  {
   "attachments": {},
   "cell_type": "markdown",
   "metadata": {},
   "source": [
    "# Calculate average accuracy scores"
   ]
  },
  {
   "cell_type": "code",
   "execution_count": 4,
   "metadata": {},
   "outputs": [
    {
     "name": "stdout",
     "output_type": "stream",
     "text": [
      "['\\n', 'Accuracy score: 100.0%\\n', 'Precision score: binary 100.0%\\n', 'Recall score: binary 100.0%\\n', 'Precision score: micro 100.0%\\n', 'Recall score: micro 100.0%\\n', 'Precision score: macro 100.0%\\n', 'Recall score: macro 100.0%\\n', '\\n', 'Accuracy score: 90.909%\\n', 'Precision score: binary 92.857%\\n', 'Recall score: binary 92.857%\\n', 'Precision score: micro 90.909%\\n', 'Recall score: micro 90.909%\\n', 'Precision score: macro 90.179%\\n', 'Recall score: macro 90.179%\\n', '\\n', 'Accuracy score: 90.909%\\n', 'Precision score: binary 71.429%\\n', 'Recall score: binary 100.0%\\n', 'Precision score: micro 90.909%\\n', 'Recall score: micro 90.909%\\n', 'Precision score: macro 85.714%\\n', 'Recall score: macro 94.118%\\n', '\\n', 'Accuracy score: 95.455%\\n', 'Precision score: binary 100.0%\\n', 'Recall score: binary 88.889%\\n', 'Precision score: micro 95.455%\\n', 'Recall score: micro 95.455%\\n', 'Precision score: macro 96.429%\\n', 'Recall score: macro 94.444%\\n', '\\n', 'Accuracy score: 77.273%\\n', 'Precision score: binary 80.0%\\n', 'Recall score: binary 72.727%\\n', 'Precision score: micro 77.273%\\n', 'Recall score: micro 77.273%\\n', 'Precision score: macro 77.5%\\n', 'Recall score: macro 77.273%\\n', '\\n', 'Accuracy score: 77.273%\\n', 'Precision score: binary 75.0%\\n', 'Recall score: binary 66.667%\\n', 'Precision score: micro 77.273%\\n', 'Recall score: micro 77.273%\\n', 'Precision score: macro 76.786%\\n', 'Recall score: macro 75.641%\\n', '\\n', 'Accuracy score: 81.818%\\n', 'Precision score: binary 92.857%\\n', 'Recall score: binary 81.25%\\n', 'Precision score: micro 81.818%\\n', 'Recall score: micro 81.818%\\n', 'Precision score: macro 77.679%\\n', 'Recall score: macro 82.292%\\n', '\\n', 'Accuracy score: 100.0%\\n', 'Precision score: binary 100.0%\\n', 'Recall score: binary 100.0%\\n', 'Precision score: micro 100.0%\\n', 'Recall score: micro 100.0%\\n', 'Precision score: macro 100.0%\\n', 'Recall score: macro 100.0%\\n', '\\n', 'Accuracy score: 86.364%\\n', 'Precision score: binary 100.0%\\n', 'Recall score: binary 78.571%\\n', 'Precision score: micro 86.364%\\n', 'Recall score: micro 86.364%\\n', 'Precision score: macro 86.364%\\n', 'Recall score: macro 89.286%\\n', '\\n', 'Accuracy score: 90.909%\\n', 'Precision score: binary 90.0%\\n', 'Recall score: binary 90.0%\\n', 'Precision score: micro 90.909%\\n', 'Recall score: micro 90.909%\\n', 'Precision score: macro 90.833%\\n', 'Recall score: macro 90.833%\\n']\n",
      "Average accuracy: 89.091\n",
      "Average precision: 90.21430000000001\n",
      "Average recall: 87.0961\n"
     ]
    }
   ],
   "source": [
    "RESULT_DIR = \"../../output/results/aff_ads_graph_level_fullGraph\"\n",
    "\n",
    "with open(os.path.join(RESULT_DIR, \"accuracy\")) as f:\n",
    "    lines = f.readlines()\n",
    "    print(lines)\n",
    "\n",
    "    total_accuracy = 0\n",
    "    total_precision = 0\n",
    "    total_recall = 0\n",
    "    count = 0\n",
    "    for line in lines:\n",
    "        accuracy = 0\n",
    "        precision = 0\n",
    "        recall = 0\n",
    "        if \"Accuracy\" in line:\n",
    "            accuracy = line.split(\":\")[1].strip()\n",
    "        elif \"Precision\" in line and 'binary' in line:\n",
    "            precision = line.split(\":\")[1].split(' ')[2].strip()\n",
    "        elif \"Recall\" in line and 'binary' in line:\n",
    "            recall = line.split(\":\")[1].split(' ')[2].strip()\n",
    "        \n",
    "        if accuracy != 0:\n",
    "            total_accuracy += float(accuracy.replace('%', ''))\n",
    "            count += 1\n",
    "        if precision != 0:\n",
    "            total_precision += float(precision.replace('%', ''))\n",
    "        if recall != 0:\n",
    "            total_recall += float(recall.replace('%', ''))\n",
    "        \n",
    "\n",
    "    print(f\"Average accuracy: {total_accuracy/count}\")\n",
    "    print(f\"Average precision: {total_precision/count}\")\n",
    "    print(f\"Average recall: {total_recall/count}\")"
   ]
  },
  {
   "cell_type": "code",
   "execution_count": 3,
   "metadata": {},
   "outputs": [],
   "source": [
    "df_labeled = pd.read_csv('/home/data/chensun/affi_project/purl/output/results/aff_ads_graph_level_fullGraph/with_model_0/labelled_results.csv')"
   ]
  },
  {
   "cell_type": "code",
   "execution_count": 67,
   "metadata": {},
   "outputs": [
    {
     "data": {
      "text/plain": [
       "count    114.000000\n",
       "mean       0.043860\n",
       "std        0.205687\n",
       "min        0.000000\n",
       "25%        0.000000\n",
       "50%        0.000000\n",
       "75%        0.000000\n",
       "max        1.000000\n",
       "Name: has_affiliate_keyword, dtype: float64"
      ]
     },
     "execution_count": 67,
     "metadata": {},
     "output_type": "execute_result"
    }
   ],
   "source": [
    "df_labeled[df_labeled.label == 'ads'].has_affiliate_keyword .describe()"
   ]
  },
  {
   "cell_type": "code",
   "execution_count": 69,
   "metadata": {},
   "outputs": [
    {
     "data": {
      "image/png": "[encoded data removed]",
      "text/plain": [
       "<Figure size 330x250 with 1 Axes>"
      ]
     },
     "metadata": {},
     "output_type": "display_data"
    }
   ],
   "source": [
    "# plt.figure(figsize=(8, 6))\n",
    "count, bins_negative = np.histogram(df_labeled[df_labeled.label == 'affiliate'].has_affiliate_keyword, 24)\n",
    "pdf_negative = count / sum(count)\n",
    "cdf_negative = np.cumsum(pdf_negative)\n",
    "plt.plot(bins_negative[1:], cdf_negative, label=\"affiliate\", color='green')\n",
    "\n",
    "count, bins_positive = np.histogram(df_labeled[df_labeled.label == 'ads'].has_affiliate_keyword, 24)\n",
    "pdf_positive = count / sum(count)\n",
    "cdf_positive = np.cumsum(pdf_positive)\n",
    "plt.plot(bins_positive[1:], cdf_positive, label=\"ads\", color='red')\n",
    "plt.legend()\n",
    "plt.xlabel(\"has_affiliate_keyword\")\n",
    "plt.ylabel(\"CDF\")\n",
    "plt.savefig(\"/home/data/chensun/affi_project/purl/output/results/aff_ads_mean_phaseA/has_affiliate_keyword.pdf\", dpi=300, bbox_inches='tight')"
   ]
  },
  {
   "cell_type": "code",
   "execution_count": 32,
   "metadata": {},
   "outputs": [
    {
     "name": "stderr",
     "output_type": "stream",
     "text": [
      "/tmp/ipykernel_100071/1003097408.py:2: UserWarning: Boolean Series key will be reindexed to match DataFrame index.\n",
      "  count, bins_negative = np.histogram(df_labeled[df_labeled.nodes_div_by_edges < 1.25][df_labeled.label == 'affiliate'].nodes_div_by_edges, 24)\n",
      "/tmp/ipykernel_100071/1003097408.py:7: UserWarning: Boolean Series key will be reindexed to match DataFrame index.\n",
      "  count, bins_positive = np.histogram(df_labeled[df_labeled.nodes_div_by_edges < 1.25][df_labeled.label == 'ads'].nodes_div_by_edges, 24)\n"
     ]
    },
    {
     "data": {
      "image/png": "[encoded data removed]",
      "text/plain": [
       "<Figure size 330x250 with 1 Axes>"
      ]
     },
     "metadata": {},
     "output_type": "display_data"
    }
   ],
   "source": [
    "# plt.figure(figsize=(8, 6))\n",
    "count, bins_negative = np.histogram(df_labeled[df_labeled.nodes_div_by_edges < 1.25][df_labeled.label == 'affiliate'].nodes_div_by_edges, 24)\n",
    "pdf_negative = count / sum(count)\n",
    "cdf_negative = np.cumsum(pdf_negative)\n",
    "plt.plot(bins_negative[1:], cdf_negative, label=\"affiliate\", color='green')\n",
    "\n",
    "count, bins_positive = np.histogram(df_labeled[df_labeled.nodes_div_by_edges < 1.25][df_labeled.label == 'ads'].nodes_div_by_edges, 24)\n",
    "pdf_positive = count / sum(count)\n",
    "cdf_positive = np.cumsum(pdf_positive)\n",
    "plt.plot(bins_positive[1:], cdf_positive, label=\"ads\", color='red')\n",
    "plt.legend()\n",
    "plt.xlabel(\"nodes_div_by_edges\")\n",
    "plt.ylabel(\"CDF\")\n",
    "plt.savefig(\"/home/data/chensun/affi_project/purl/output/results/aff_ads_mean_phaseA/nodes_div_by_edges.pdf\", dpi=300, bbox_inches='tight')"
   ]
  },
  {
   "cell_type": "code",
   "execution_count": 77,
   "metadata": {},
   "outputs": [
    {
     "data": {
      "text/plain": [
       "count    114.000000\n",
       "mean       0.005077\n",
       "std        0.004451\n",
       "min        0.000565\n",
       "25%        0.002123\n",
       "50%        0.003962\n",
       "75%        0.006148\n",
       "max        0.031236\n",
       "Name: std_dev_closeness_centrality, dtype: float64"
      ]
     },
     "execution_count": 77,
     "metadata": {},
     "output_type": "execute_result"
    }
   ],
   "source": [
    "df_labeled[df_labeled.label == 'ads'].std_dev_closeness_centrality.describe()"
   ]
  },
  {
   "cell_type": "code",
   "execution_count": 78,
   "metadata": {},
   "outputs": [
    {
     "data": {
      "image/png": "[encoded data removed]",
      "text/plain": [
       "<Figure size 330x250 with 1 Axes>"
      ]
     },
     "metadata": {},
     "output_type": "display_data"
    }
   ],
   "source": [
    "# plt.figure(figsize=(8, 6))\n",
    "count, bins_negative = np.histogram(df_labeled[df_labeled.label == 'affiliate'].std_dev_closeness_centrality, 24)\n",
    "pdf_negative = count / sum(count)\n",
    "cdf_negative = np.cumsum(pdf_negative)\n",
    "plt.plot(bins_negative[1:], cdf_negative, label=\"affiliate\", color='green')\n",
    "\n",
    "count, bins_positive = np.histogram(df_labeled[df_labeled.label == 'ads'].std_dev_closeness_centrality, 24)\n",
    "pdf_positive = count / sum(count)\n",
    "cdf_positive = np.cumsum(pdf_positive)\n",
    "plt.plot(bins_positive[1:], cdf_positive, label=\"ads\", color='red')\n",
    "plt.legend()\n",
    "plt.xlabel(\"std_dev_closeness_centrality\")\n",
    "plt.ylabel(\"CDF\")\n",
    "plt.savefig(\"/home/data/chensun/affi_project/purl/output/results/aff_ads_mean_phaseA/std_dev_closeness_centrality.pdf\", dpi=300, bbox_inches='tight')"
   ]
  },
  {
   "cell_type": "code",
   "execution_count": 6,
   "metadata": {},
   "outputs": [
    {
     "data": {
      "text/plain": [
       "count    114.000000\n",
       "mean       0.014105\n",
       "std        0.011091\n",
       "min        0.001474\n",
       "25%        0.006072\n",
       "50%        0.010941\n",
       "75%        0.019504\n",
       "max        0.066271\n",
       "Name: avg_clustering_coefficient, dtype: float64"
      ]
     },
     "execution_count": 6,
     "metadata": {},
     "output_type": "execute_result"
    }
   ],
   "source": [
    "df_labeled[df_labeled.label == 'ads'].avg_clustering_coefficient.describe()"
   ]
  },
  {
   "cell_type": "code",
   "execution_count": 10,
   "metadata": {},
   "outputs": [
    {
     "data": {
      "image/png": "[encoded data removed]",
      "text/plain": [
       "<Figure size 330x250 with 1 Axes>"
      ]
     },
     "metadata": {},
     "output_type": "display_data"
    }
   ],
   "source": [
    "# plt.figure(figsize=(8, 6))\n",
    "count, bins_negative = np.histogram(df_labeled[df_labeled.label == 'affiliate'].avg_clustering_coefficient, 24)\n",
    "pdf_negative = count / sum(count)\n",
    "cdf_negative = np.cumsum(pdf_negative)\n",
    "plt.plot(bins_negative[1:], cdf_negative, label=\"affiliate\", color='green')\n",
    "\n",
    "count, bins_positive = np.histogram(df_labeled[df_labeled.label == 'ads'].avg_clustering_coefficient, 24)\n",
    "pdf_positive = count / sum(count)\n",
    "cdf_positive = np.cumsum(pdf_positive)\n",
    "plt.plot(bins_positive[1:], cdf_positive, label=\"ads\", color='red')\n",
    "plt.legend()\n",
    "plt.xlabel(\"avg_clustering_coefficient\")\n",
    "plt.ylabel(\"CDF\")\n",
    "plt.savefig(\"/home/data/chensun/affi_project/purl/output/results/aff_ads_mean_phaseA/avg_clustering_coefficient.pdf\", dpi=300, bbox_inches='tight')"
   ]
  },
  {
   "cell_type": "code",
   "execution_count": 36,
   "metadata": {},
   "outputs": [
    {
     "data": {
      "text/plain": [
       "count    152.000000\n",
       "mean      25.368421\n",
       "std       30.713520\n",
       "min        1.000000\n",
       "25%       11.750000\n",
       "50%       12.000000\n",
       "75%       18.000000\n",
       "max      120.000000\n",
       "Name: counts_decoration, dtype: float64"
      ]
     },
     "execution_count": 36,
     "metadata": {},
     "output_type": "execute_result"
    }
   ],
   "source": [
    "df_labeled[df_labeled.label == 'affiliate'].counts_decoration.describe()"
   ]
  },
  {
   "cell_type": "code",
   "execution_count": 39,
   "metadata": {},
   "outputs": [
    {
     "name": "stderr",
     "output_type": "stream",
     "text": [
      "/tmp/ipykernel_100071/767929108.py:2: UserWarning: Boolean Series key will be reindexed to match DataFrame index.\n",
      "  count, bins_negative = np.histogram(df_labeled[df_labeled.counts_decoration < 60][df_labeled.label == 'affiliate'].counts_decoration, 24)\n",
      "/tmp/ipykernel_100071/767929108.py:7: UserWarning: Boolean Series key will be reindexed to match DataFrame index.\n",
      "  count, bins_positive = np.histogram(df_labeled[df_labeled.counts_decoration < 60][df_labeled.label == 'ads'].counts_decoration, 24)\n"
     ]
    },
    {
     "data": {
      "image/png": "[encoded data removed]",
      "text/plain": [
       "<Figure size 330x250 with 1 Axes>"
      ]
     },
     "metadata": {},
     "output_type": "display_data"
    }
   ],
   "source": [
    "# plt.figure(figsize=(8, 6))\n",
    "count, bins_negative = np.histogram(df_labeled[df_labeled.counts_decoration < 60][df_labeled.label == 'affiliate'].counts_decoration, 24)\n",
    "pdf_negative = count / sum(count)\n",
    "cdf_negative = np.cumsum(pdf_negative)\n",
    "plt.plot(bins_negative[1:], cdf_negative, label=\"affiliate\", color='green')\n",
    "\n",
    "count, bins_positive = np.histogram(df_labeled[df_labeled.counts_decoration < 60][df_labeled.label == 'ads'].counts_decoration, 24)\n",
    "pdf_positive = count / sum(count)\n",
    "cdf_positive = np.cumsum(pdf_positive)\n",
    "plt.plot(bins_positive[1:], cdf_positive, label=\"ads\", color='red')\n",
    "plt.legend()\n",
    "plt.xlabel(\"counts_decoration\")\n",
    "plt.ylabel(\"CDF\")\n",
    "plt.savefig(\"/home/data/chensun/affi_project/purl/output/results/aff_ads_mean_phaseA/counts_decoration.pdf\", dpi=300, bbox_inches='tight')"
   ]
  },
  {
   "cell_type": "code",
   "execution_count": 42,
   "metadata": {},
   "outputs": [
    {
     "data": {
      "text/plain": [
       "count    114.000000\n",
       "mean       0.898288\n",
       "std        0.149537\n",
       "min        0.230769\n",
       "25%        0.810847\n",
       "50%        1.000000\n",
       "75%        1.000000\n",
       "max        1.000000\n",
       "Name: ascendant_has_ad_keyword, dtype: float64"
      ]
     },
     "execution_count": 42,
     "metadata": {},
     "output_type": "execute_result"
    }
   ],
   "source": [
    "df_labeled[df_labeled.label == 'ads'].ascendant_has_ad_keyword.describe()"
   ]
  },
  {
   "cell_type": "code",
   "execution_count": null,
   "metadata": {},
   "outputs": [],
   "source": []
  },
  {
   "cell_type": "code",
   "execution_count": 43,
   "metadata": {},
   "outputs": [
    {
     "name": "stderr",
     "output_type": "stream",
     "text": [
      "/tmp/ipykernel_100071/1007004516.py:3: RuntimeWarning: divide by zero encountered in divide\n",
      "  pdf_negative = count / sum(count)\n",
      "/tmp/ipykernel_100071/1007004516.py:3: RuntimeWarning: invalid value encountered in divide\n",
      "  pdf_negative = count / sum(count)\n"
     ]
    },
    {
     "data": {
      "image/png": "[encoded data removed]",
      "text/plain": [
       "<Figure size 330x250 with 1 Axes>"
      ]
     },
     "metadata": {},
     "output_type": "display_data"
    }
   ],
   "source": [
    "# plt.figure(figsize=(8, 6))\n",
    "count, bins_negative = np.histogram(df_labeled[df_labeled.label == 'normal'].max_depth_decoration, 50)\n",
    "pdf_negative = count / sum(count)\n",
    "cdf_negative = np.cumsum(pdf_negative)\n",
    "plt.plot(bins_negative[1:], cdf_negative, label=\"normal\", color='green')\n",
    "\n",
    "count, bins_positive = np.histogram(df_labeled[df_labeled.label == 'affiliate'].max_depth_decoration, 50)\n",
    "pdf_positive = count / sum(count)\n",
    "cdf_positive = np.cumsum(pdf_positive)\n",
    "plt.plot(bins_positive[1:], cdf_positive, label=\"affiliate\", color='red')\n",
    "plt.legend()\n",
    "plt.xlabel(\"Num of Edges\")\n",
    "plt.ylabel(\"CDF\")\n",
    "plt.savefig(\"/home/data/chensun/affi_project/purl/output/results/aff_normal_mean_phaseA/max_depth_decoration.pdf\", dpi=300, bbox_inches='tight')"
   ]
  },
  {
   "cell_type": "code",
   "execution_count": 44,
   "metadata": {},
   "outputs": [
    {
     "name": "stderr",
     "output_type": "stream",
     "text": [
      "/tmp/ipykernel_100071/346222907.py:2: RuntimeWarning: divide by zero encountered in divide\n",
      "  pdf_negative = count / sum(count)\n",
      "/tmp/ipykernel_100071/346222907.py:2: RuntimeWarning: invalid value encountered in divide\n",
      "  pdf_negative = count / sum(count)\n"
     ]
    }
   ],
   "source": [
    "count, bins_negative = np.histogram(df_labeled[df_labeled.label == 'Negative'].shannon_entropy, 50)\n",
    "pdf_negative = count / sum(count)\n",
    "cdf_negative = np.cumsum(pdf_negative)"
   ]
  },
  {
   "cell_type": "code",
   "execution_count": 45,
   "metadata": {},
   "outputs": [
    {
     "data": {
      "text/plain": [
       "nan"
      ]
     },
     "execution_count": 45,
     "metadata": {},
     "output_type": "execute_result"
    }
   ],
   "source": [
    "cdf_negative[24]"
   ]
  },
  {
   "cell_type": "code",
   "execution_count": 46,
   "metadata": {},
   "outputs": [
    {
     "data": {
      "text/plain": [
       "0.9605263157894738"
      ]
     },
     "execution_count": 46,
     "metadata": {},
     "output_type": "execute_result"
    }
   ],
   "source": [
    "cdf_positive[24]"
   ]
  },
  {
   "cell_type": "code",
   "execution_count": 47,
   "metadata": {},
   "outputs": [
    {
     "data": {
      "text/plain": [
       "0.48"
      ]
     },
     "execution_count": 47,
     "metadata": {},
     "output_type": "execute_result"
    }
   ],
   "source": [
    "bins_negative[24]"
   ]
  },
  {
   "cell_type": "code",
   "execution_count": 48,
   "metadata": {},
   "outputs": [
    {
     "name": "stderr",
     "output_type": "stream",
     "text": [
      "/tmp/ipykernel_100071/4016665578.py:3: RuntimeWarning: divide by zero encountered in divide\n",
      "  pdf = count / sum(count)\n",
      "/tmp/ipykernel_100071/4016665578.py:3: RuntimeWarning: invalid value encountered in divide\n",
      "  pdf = count / sum(count)\n"
     ]
    },
    {
     "data": {
      "image/png": "[encoded data removed]",
      "text/plain": [
       "<Figure size 800x600 with 1 Axes>"
      ]
     },
     "metadata": {},
     "output_type": "display_data"
    }
   ],
   "source": [
    "plt.figure(figsize=(8, 6))\n",
    "count, bins = np.histogram(df_labeled[df_labeled.label == 'Negative'].shannon_entropy, 50)\n",
    "pdf = count / sum(count)\n",
    "cdf = np.cumsum(pdf)\n",
    "plt.plot(bins[1:], cdf, label=\"CDF\")\n",
    "plt.legend()\n",
    "plt.show()"
   ]
  },
  {
   "cell_type": "code",
   "execution_count": 49,
   "metadata": {},
   "outputs": [
    {
     "data": {
      "text/plain": [
       "count    0.0\n",
       "mean     NaN\n",
       "std      NaN\n",
       "min      NaN\n",
       "25%      NaN\n",
       "50%      NaN\n",
       "75%      NaN\n",
       "max      NaN\n",
       "Name: shannon_entropy, dtype: float64"
      ]
     },
     "execution_count": 49,
     "metadata": {},
     "output_type": "execute_result"
    }
   ],
   "source": [
    "df_labeled[df_labeled.label == 'Positive'].shannon_entropy.describe()"
   ]
  },
  {
   "cell_type": "code",
   "execution_count": 50,
   "metadata": {},
   "outputs": [
    {
     "data": {
      "text/plain": [
       "count    0.0\n",
       "mean     NaN\n",
       "std      NaN\n",
       "min      NaN\n",
       "25%      NaN\n",
       "50%      NaN\n",
       "75%      NaN\n",
       "max      NaN\n",
       "Name: shannon_entropy, dtype: float64"
      ]
     },
     "execution_count": 50,
     "metadata": {},
     "output_type": "execute_result"
    }
   ],
   "source": [
    "df_labeled[df_labeled.label == 'Negative'].shannon_entropy.describe()"
   ]
  },
  {
   "cell_type": "code",
   "execution_count": 58,
   "metadata": {},
   "outputs": [
    {
     "data": {
      "text/plain": [
       "count    114.000000\n",
       "mean      45.729378\n",
       "std      105.154970\n",
       "min        5.000000\n",
       "25%       14.703571\n",
       "50%       18.102679\n",
       "75%       27.176692\n",
       "max      778.744186\n",
       "Name: num_nodes, dtype: float64"
      ]
     },
     "execution_count": 58,
     "metadata": {},
     "output_type": "execute_result"
    }
   ],
   "source": [
    "df_labeled[df_labeled.label == 'ads'].num_nodes.describe()"
   ]
  },
  {
   "cell_type": "code",
   "execution_count": 59,
   "metadata": {},
   "outputs": [
    {
     "name": "stderr",
     "output_type": "stream",
     "text": [
      "/tmp/ipykernel_100071/2252857499.py:2: UserWarning: Boolean Series key will be reindexed to match DataFrame index.\n",
      "  count, bins_negative = np.histogram(df_labeled[df_labeled.num_nodes < 100][df_labeled.label == 'affiliate'].num_nodes, 50)\n",
      "/tmp/ipykernel_100071/2252857499.py:7: UserWarning: Boolean Series key will be reindexed to match DataFrame index.\n",
      "  count, bins_positive = np.histogram(df_labeled[df_labeled.num_nodes < 100][df_labeled.label == 'ads'].num_nodes, 50)\n"
     ]
    },
    {
     "data": {
      "image/png": "[encoded data removed]",
      "text/plain": [
       "<Figure size 330x250 with 1 Axes>"
      ]
     },
     "metadata": {},
     "output_type": "display_data"
    }
   ],
   "source": [
    "# plt.figure(figsize=(8, 6))\n",
    "count, bins_negative = np.histogram(df_labeled[df_labeled.num_nodes < 100][df_labeled.label == 'affiliate'].num_nodes, 50)\n",
    "pdf_negative = count / sum(count)\n",
    "cdf_negative = np.cumsum(pdf_negative)\n",
    "plt.plot(bins_negative[1:], cdf_negative, label=\"affiliate\", color='green')\n",
    "\n",
    "count, bins_positive = np.histogram(df_labeled[df_labeled.num_nodes < 100][df_labeled.label == 'ads'].num_nodes, 50)\n",
    "pdf_positive = count / sum(count)\n",
    "cdf_positive = np.cumsum(pdf_positive)\n",
    "plt.plot(bins_positive[1:], cdf_positive, label=\"ads\", color='red')\n",
    "plt.legend()\n",
    "plt.xlabel(\"Number of Nodes\")\n",
    "plt.ylabel(\"CDF\")\n",
    "plt.savefig(\"/home/data/chensun/affi_project/purl/output/results/aff_normal_mean_phaseA/number_of_nodes_cdf.pdf\", dpi=300, bbox_inches='tight')"
   ]
  },
  {
   "cell_type": "code",
   "execution_count": 54,
   "metadata": {},
   "outputs": [
    {
     "data": {
      "text/plain": [
       "nan"
      ]
     },
     "execution_count": 54,
     "metadata": {},
     "output_type": "execute_result"
    }
   ],
   "source": [
    "cdf_negative[6]"
   ]
  },
  {
   "cell_type": "code",
   "execution_count": 55,
   "metadata": {},
   "outputs": [
    {
     "data": {
      "text/plain": [
       "0.3170731707317073"
      ]
     },
     "execution_count": 55,
     "metadata": {},
     "output_type": "execute_result"
    }
   ],
   "source": [
    "cdf_positive[6]"
   ]
  },
  {
   "cell_type": "code",
   "execution_count": 56,
   "metadata": {},
   "outputs": [
    {
     "data": {
      "text/plain": [
       "0.12"
      ]
     },
     "execution_count": 56,
     "metadata": {},
     "output_type": "execute_result"
    }
   ],
   "source": [
    "bins_negative[6]"
   ]
  }
 ],
 "metadata": {
  "kernelspec": {
   "display_name": "querygraph",
   "language": "python",
   "name": "python3"
  },
  "language_info": {
   "codemirror_mode": {
    "name": "ipython",
    "version": 3
   },
   "file_extension": ".py",
   "mimetype": "text/x-python",
   "name": "python",
   "nbconvert_exporter": "python",
   "pygments_lexer": "ipython3",
   "version": "3.9.6"
  },
  "orig_nbformat": 4
 },
 "nbformat": 4,
 "nbformat_minor": 2
}
